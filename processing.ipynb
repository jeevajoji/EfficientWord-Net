{
 "cells": [
  {
   "cell_type": "code",
   "execution_count": 8,
   "metadata": {},
   "outputs": [],
   "source": [
    "import librosa\n",
    "import soundfile as sf\n",
    "import numpy as np\n",
    "import random"
   ]
  },
  {
   "cell_type": "code",
   "execution_count": 6,
   "metadata": {},
   "outputs": [],
   "source": [
    "AUDIO_LENGTH = 1\n",
    "SAMPLE_RATE = 16000"
   ]
  },
  {
   "cell_type": "code",
   "execution_count": 9,
   "metadata": {},
   "outputs": [],
   "source": [
    "def randomCrop(x:np.array,length=AUDIO_LENGTH)->np.array :\n",
    "    assert(x.shape[0]>length)\n",
    "    frontBits = random.randint(0,x.shape[0]-length) \n",
    "    return x[frontBits:frontBits+length]"
   ]
  },
  {
   "cell_type": "code",
   "execution_count": 3,
   "metadata": {},
   "outputs": [],
   "source": [
    "def splitNoiseFileToChunks(filename: str, target_folder: str, count=100, sr=16000):\n",
    "    noiseAudio, _ = librosa.load(filename, sr=sr)\n",
    "    if len(noiseAudio) <= AUDIO_LENGTH:\n",
    "        print(f\"Warning: Audio file {filename} is shorter than {AUDIO_LENGTH / SAMPLE_RATE} seconds. Skipping this file.\")\n",
    "        return  \n",
    "    \n",
    "    for i in range(count):\n",
    "        noiseAudioCrop = randomCrop(noiseAudio)  \n",
    "        outFilePath = target_folder + \"/\" + (f\"{'.'.join(filename.split('.')[:-1])}_{i}.wav\").split(\"/\")[-1]\n",
    "        sf.write(outFilePath, noiseAudioCrop, sr, 'PCM_24')"
   ]
  },
  {
   "cell_type": "code",
   "execution_count": null,
   "metadata": {},
   "outputs": [],
   "source": [
    "splitNoiseFileToChunks(r\"C:\\Users\\salos\\Downloads\\102102-3-0-0.wav\",r'Efficient_word_net\\NoiseChunked\\dog_bark')"
   ]
  },
  {
   "cell_type": "code",
   "execution_count": null,
   "metadata": {},
   "outputs": [],
   "source": [
    "from os import listdir, mkdir\n",
    "from os.path import isdir\n",
    "from os import system as run_sys_command\n",
    "import librosa\n",
    "\n",
    "# Define the source and target directories\n",
    "source_dir = r\"C:\\Users\\salos\\OneDrive\\Desktop\\EfficientWord-Net\\Efficient_word_net\\dataset\"\n",
    "target_dir = r\"C:\\Users\\salos\\OneDrive\\Desktop\\EfficientWord-Net\\Efficient_word_net\\NoiseChunked\\dog_bark\"\n",
    "\n",
    "# Create the target directory\n",
    "mkdir(target_dir)\n",
    "\n",
    "# List the 10 folders (folds) in the UrbanSound8K dataset\n",
    "folds = listdir(source_dir)\n",
    "\n",
    "# Iterate over each fold\n",
    "for i, fold in enumerate(folds):\n",
    "    source_path = f\"{source_dir}/{fold}\"  # Path to the current fold\n",
    "    target_path = f\"{target_dir}/{fold}\"  # Path to the target folder for chunks\n",
    "    \n",
    "    print(f\"{len(folds) - i} folds left to process.\")\n",
    "    \n",
    "    if isdir(source_path):  # Check if the fold is a directory\n",
    "        mkdir(target_path)  # Create a target folder for the current fold\n",
    "        audioFiles = listdir(source_path)  # List all audio files in the current fold\n",
    "\n",
    "        # Iterate over each audio file in the current fold\n",
    "        for j, audioFile in enumerate(audioFiles):\n",
    "            print(f\"Processing {j + 1} out of {len(audioFiles)} audio files in {fold}.\")\n",
    "            srcFilePath = f\"{source_path}/{audioFile}\"  \n",
    "            splitNoiseFileToChunks(srcFilePath, target_path)"
   ]
  }
 ],
 "metadata": {
  "kernelspec": {
   "display_name": "venv",
   "language": "python",
   "name": "python3"
  },
  "language_info": {
   "codemirror_mode": {
    "name": "ipython",
    "version": 3
   },
   "file_extension": ".py",
   "mimetype": "text/x-python",
   "name": "python",
   "nbconvert_exporter": "python",
   "pygments_lexer": "ipython3",
   "version": "3.10.11"
  }
 },
 "nbformat": 4,
 "nbformat_minor": 2
}
